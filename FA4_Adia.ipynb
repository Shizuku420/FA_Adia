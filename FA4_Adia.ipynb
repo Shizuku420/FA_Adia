{
  "cells": [
    {
      "cell_type": "markdown",
      "metadata": {
        "id": "view-in-github",
        "colab_type": "text"
      },
      "source": [
        "<a href=\"https://colab.research.google.com/github/Shizuku420/FA_Adia/blob/main/FA4_Adia.ipynb\" target=\"_parent\"><img src=\"https://colab.research.google.com/assets/colab-badge.svg\" alt=\"Open In Colab\"/></a>"
      ]
    },
    {
      "cell_type": "markdown",
      "source": [
        "\n",
        "# **`1. Write a Python program to print the even numbers from a given list.`**\n"
      ],
      "metadata": {
        "id": "ARNbZjIDSNHd"
      }
    },
    {
      "cell_type": "code",
      "source": [
        "numbers = [1, 2, 3, 4, 5, 6, 7, 8, 9, 10, 11, 13, 15, 17, 19, 24, 26, 28, 30, 32]\n",
        "\n",
        "# Print even numbers from the list\n",
        "even_numbers = [num for num in numbers if num % 2 == 0]\n",
        "print(\"Even numbers from the given list:\", even_numbers)"
      ],
      "metadata": {
        "id": "xfdGk8ewSZ62",
        "outputId": "35186219-2860-41b2-ce3f-2feb0a918f75",
        "colab": {
          "base_uri": "https://localhost:8080/"
        }
      },
      "execution_count": 2,
      "outputs": [
        {
          "output_type": "stream",
          "name": "stdout",
          "text": [
            "Even numbers from the given list: [2, 4, 6, 8, 10, 24, 26, 28, 30, 32]\n"
          ]
        }
      ]
    },
    {
      "cell_type": "markdown",
      "source": [
        "# **`2. Generate a Python list of all the even numbers between 10 to 60.`**\n",
        "\n"
      ],
      "metadata": {
        "id": "EkcieC8mSuvw"
      }
    },
    {
      "cell_type": "code",
      "source": [
        "even_numbers = [num for num in range(10, 61) if num % 2 == 0]\n",
        "print(\"Even numbers between 10 to 60:\", even_numbers)"
      ],
      "metadata": {
        "id": "lqjhiUa6Sy90",
        "outputId": "0392a6f7-7205-48be-9d4e-e6480fca52e8",
        "colab": {
          "base_uri": "https://localhost:8080/"
        }
      },
      "execution_count": 3,
      "outputs": [
        {
          "output_type": "stream",
          "name": "stdout",
          "text": [
            "Even numbers between 10 to 60: [10, 12, 14, 16, 18, 20, 22, 24, 26, 28, 30, 32, 34, 36, 38, 40, 42, 44, 46, 48, 50, 52, 54, 56, 58, 60]\n"
          ]
        }
      ]
    },
    {
      "cell_type": "markdown",
      "source": [
        "# **`3. Write a program to create a function show_feu_professor() using the following conditions:`**\n",
        "\n"
      ],
      "metadata": {
        "id": "4eqpFbFHS-rm"
      }
    },
    {
      "cell_type": "code",
      "source": [
        "def show_feu_professor(name, salary=70000):\n",
        "    print(\"Professor's name:\", name)\n",
        "    print(\"Professor's salary:\", salary)\n",
        "\n",
        "professors = [(\"Frederick\", 90000), (\"Adelaida\", 85000), (\"Jeffrey\", 81000), (\"Glaiza\", 76000), (\"Michelle\", 70000)]\n",
        "\n",
        "for professor in professors:\n",
        "    show_feu_professor(*professor)"
      ],
      "metadata": {
        "id": "BoI3nLv_THiU",
        "outputId": "1993b275-9d95-469f-c067-4fe799e2544c",
        "colab": {
          "base_uri": "https://localhost:8080/"
        }
      },
      "execution_count": 5,
      "outputs": [
        {
          "output_type": "stream",
          "name": "stdout",
          "text": [
            "Professor's name: Frederick\n",
            "Professor's salary: 90000\n",
            "Professor's name: Adelaida\n",
            "Professor's salary: 85000\n",
            "Professor's name: Jeffrey\n",
            "Professor's salary: 81000\n",
            "Professor's name: Glaiza\n",
            "Professor's salary: 76000\n",
            "Professor's name: Michelle\n",
            "Professor's salary: 70000\n"
          ]
        }
      ]
    }
  ],
  "metadata": {
    "colab": {
      "name": "Welcome to Colaboratory",
      "toc_visible": true,
      "provenance": [],
      "include_colab_link": true
    },
    "kernelspec": {
      "display_name": "Python 3",
      "name": "python3"
    }
  },
  "nbformat": 4,
  "nbformat_minor": 0
}