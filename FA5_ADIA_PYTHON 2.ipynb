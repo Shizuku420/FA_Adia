{
 "cells": [
  {
   "cell_type": "markdown",
   "id": "f4100bd7",
   "metadata": {},
   "source": [
    "# FA5_ADIA_PYTHON"
   ]
  },
  {
   "cell_type": "markdown",
   "id": "ff3ad2dd",
   "metadata": {},
   "source": [
    "# 1. You first need to modify the DrawFence(s) to draw a circle of radius r.\n",
    "# 2. When is above is working modify Bounce_off_fence(t,r) to work with the circle. HINT: remember the distance formula you learned in algebra? Might need http://www.mathsisfun.com/polar-cartesian-coordinates.html Links to an external site\n",
    "# 3. The remainder of the code aught to work as is."
   ]
  },
  {
   "cell_type": "markdown",
   "id": "828d7441",
   "metadata": {},
   "source": [
    "# !!!The program sometimes crush just exit and repeat it again it will work!!!"
   ]
  },
  {
   "cell_type": "code",
   "execution_count": 1,
   "id": "9bb8a157",
   "metadata": {
    "scrolled": false
   },
   "outputs": [
    {
     "ename": "TclError",
     "evalue": "invalid command name \".!canvas\"",
     "output_type": "error",
     "traceback": [
      "\u001b[1;31m---------------------------------------------------------------------------\u001b[0m",
      "\u001b[1;31mTclError\u001b[0m                                  Traceback (most recent call last)",
      "Cell \u001b[1;32mIn[1], line 46\u001b[0m\n\u001b[0;32m     44\u001b[0m \u001b[38;5;66;03m# Main loop\u001b[39;00m\n\u001b[0;32m     45\u001b[0m \u001b[38;5;28;01mwhile\u001b[39;00m \u001b[38;5;28;01mTrue\u001b[39;00m:\n\u001b[1;32m---> 46\u001b[0m     ball\u001b[38;5;241m.\u001b[39msety(ball\u001b[38;5;241m.\u001b[39mycor() \u001b[38;5;241m+\u001b[39m vy)  \u001b[38;5;66;03m# Move the ball vertically\u001b[39;00m\n\u001b[0;32m     47\u001b[0m     ball\u001b[38;5;241m.\u001b[39msetx(ball\u001b[38;5;241m.\u001b[39mxcor() \u001b[38;5;241m+\u001b[39m vx)  \u001b[38;5;66;03m# Move the ball horizontally\u001b[39;00m\n\u001b[0;32m     49\u001b[0m     \u001b[38;5;66;03m# Apply gravity\u001b[39;00m\n",
      "File \u001b[1;32m~\\anaconda3\\Lib\\turtle.py:1827\u001b[0m, in \u001b[0;36mTNavigator.sety\u001b[1;34m(self, y)\u001b[0m\n\u001b[0;32m   1811\u001b[0m \u001b[38;5;28;01mdef\u001b[39;00m \u001b[38;5;21msety\u001b[39m(\u001b[38;5;28mself\u001b[39m, y):\n\u001b[0;32m   1812\u001b[0m \u001b[38;5;250m    \u001b[39m\u001b[38;5;124;03m\"\"\"Set the turtle's second coordinate to y\u001b[39;00m\n\u001b[0;32m   1813\u001b[0m \n\u001b[0;32m   1814\u001b[0m \u001b[38;5;124;03m    Argument:\u001b[39;00m\n\u001b[1;32m   (...)\u001b[0m\n\u001b[0;32m   1825\u001b[0m \u001b[38;5;124;03m    (0.00, -10.00)\u001b[39;00m\n\u001b[0;32m   1826\u001b[0m \u001b[38;5;124;03m    \"\"\"\u001b[39;00m\n\u001b[1;32m-> 1827\u001b[0m     \u001b[38;5;28mself\u001b[39m\u001b[38;5;241m.\u001b[39m_goto(Vec2D(\u001b[38;5;28mself\u001b[39m\u001b[38;5;241m.\u001b[39m_position[\u001b[38;5;241m0\u001b[39m], y))\n",
      "File \u001b[1;32m~\\anaconda3\\Lib\\turtle.py:3175\u001b[0m, in \u001b[0;36mRawTurtle._goto\u001b[1;34m(self, end)\u001b[0m\n\u001b[0;32m   3167\u001b[0m go_modes \u001b[38;5;241m=\u001b[39m ( \u001b[38;5;28mself\u001b[39m\u001b[38;5;241m.\u001b[39m_drawing,\n\u001b[0;32m   3168\u001b[0m              \u001b[38;5;28mself\u001b[39m\u001b[38;5;241m.\u001b[39m_pencolor,\n\u001b[0;32m   3169\u001b[0m              \u001b[38;5;28mself\u001b[39m\u001b[38;5;241m.\u001b[39m_pensize,\n\u001b[0;32m   3170\u001b[0m              \u001b[38;5;28misinstance\u001b[39m(\u001b[38;5;28mself\u001b[39m\u001b[38;5;241m.\u001b[39m_fillpath, \u001b[38;5;28mlist\u001b[39m))\n\u001b[0;32m   3171\u001b[0m screen \u001b[38;5;241m=\u001b[39m \u001b[38;5;28mself\u001b[39m\u001b[38;5;241m.\u001b[39mscreen\n\u001b[0;32m   3172\u001b[0m undo_entry \u001b[38;5;241m=\u001b[39m (\u001b[38;5;124m\"\u001b[39m\u001b[38;5;124mgo\u001b[39m\u001b[38;5;124m\"\u001b[39m, \u001b[38;5;28mself\u001b[39m\u001b[38;5;241m.\u001b[39m_position, end, go_modes,\n\u001b[0;32m   3173\u001b[0m               (\u001b[38;5;28mself\u001b[39m\u001b[38;5;241m.\u001b[39mcurrentLineItem,\n\u001b[0;32m   3174\u001b[0m               \u001b[38;5;28mself\u001b[39m\u001b[38;5;241m.\u001b[39mcurrentLine[:],\n\u001b[1;32m-> 3175\u001b[0m               screen\u001b[38;5;241m.\u001b[39m_pointlist(\u001b[38;5;28mself\u001b[39m\u001b[38;5;241m.\u001b[39mcurrentLineItem),\n\u001b[0;32m   3176\u001b[0m               \u001b[38;5;28mself\u001b[39m\u001b[38;5;241m.\u001b[39mitems[:])\n\u001b[0;32m   3177\u001b[0m               )\n\u001b[0;32m   3178\u001b[0m \u001b[38;5;28;01mif\u001b[39;00m \u001b[38;5;28mself\u001b[39m\u001b[38;5;241m.\u001b[39mundobuffer:\n\u001b[0;32m   3179\u001b[0m     \u001b[38;5;28mself\u001b[39m\u001b[38;5;241m.\u001b[39mundobuffer\u001b[38;5;241m.\u001b[39mpush(undo_entry)\n",
      "File \u001b[1;32m~\\anaconda3\\Lib\\turtle.py:754\u001b[0m, in \u001b[0;36mTurtleScreenBase._pointlist\u001b[1;34m(self, item)\u001b[0m\n\u001b[0;32m    746\u001b[0m \u001b[38;5;28;01mdef\u001b[39;00m \u001b[38;5;21m_pointlist\u001b[39m(\u001b[38;5;28mself\u001b[39m, item):\n\u001b[0;32m    747\u001b[0m \u001b[38;5;250m    \u001b[39m\u001b[38;5;124;03m\"\"\"returns list of coordinate-pairs of points of item\u001b[39;00m\n\u001b[0;32m    748\u001b[0m \u001b[38;5;124;03m    Example (for insiders):\u001b[39;00m\n\u001b[0;32m    749\u001b[0m \u001b[38;5;124;03m    >>> from turtle import *\u001b[39;00m\n\u001b[1;32m   (...)\u001b[0m\n\u001b[0;32m    752\u001b[0m \u001b[38;5;124;03m    (9.9999999999999982, 0.0)]\u001b[39;00m\n\u001b[0;32m    753\u001b[0m \u001b[38;5;124;03m    >>> \"\"\"\u001b[39;00m\n\u001b[1;32m--> 754\u001b[0m     cl \u001b[38;5;241m=\u001b[39m \u001b[38;5;28mself\u001b[39m\u001b[38;5;241m.\u001b[39mcv\u001b[38;5;241m.\u001b[39mcoords(item)\n\u001b[0;32m    755\u001b[0m     pl \u001b[38;5;241m=\u001b[39m [(cl[i], \u001b[38;5;241m-\u001b[39mcl[i\u001b[38;5;241m+\u001b[39m\u001b[38;5;241m1\u001b[39m]) \u001b[38;5;28;01mfor\u001b[39;00m i \u001b[38;5;129;01min\u001b[39;00m \u001b[38;5;28mrange\u001b[39m(\u001b[38;5;241m0\u001b[39m, \u001b[38;5;28mlen\u001b[39m(cl), \u001b[38;5;241m2\u001b[39m)]\n\u001b[0;32m    756\u001b[0m     \u001b[38;5;28;01mreturn\u001b[39;00m  pl\n",
      "File \u001b[1;32m<string>:1\u001b[0m, in \u001b[0;36mcoords\u001b[1;34m(self, *args, **kw)\u001b[0m\n",
      "File \u001b[1;32m~\\anaconda3\\Lib\\tkinter\\__init__.py:2822\u001b[0m, in \u001b[0;36mCanvas.coords\u001b[1;34m(self, *args)\u001b[0m\n\u001b[0;32m   2818\u001b[0m \u001b[38;5;250m\u001b[39m\u001b[38;5;124;03m\"\"\"Return a list of coordinates for the item given in ARGS.\"\"\"\u001b[39;00m\n\u001b[0;32m   2819\u001b[0m \u001b[38;5;66;03m# XXX Should use _flatten on args\u001b[39;00m\n\u001b[0;32m   2820\u001b[0m \u001b[38;5;28;01mreturn\u001b[39;00m [\u001b[38;5;28mself\u001b[39m\u001b[38;5;241m.\u001b[39mtk\u001b[38;5;241m.\u001b[39mgetdouble(x) \u001b[38;5;28;01mfor\u001b[39;00m x \u001b[38;5;129;01min\u001b[39;00m\n\u001b[0;32m   2821\u001b[0m                    \u001b[38;5;28mself\u001b[39m\u001b[38;5;241m.\u001b[39mtk\u001b[38;5;241m.\u001b[39msplitlist(\n\u001b[1;32m-> 2822\u001b[0m            \u001b[38;5;28mself\u001b[39m\u001b[38;5;241m.\u001b[39mtk\u001b[38;5;241m.\u001b[39mcall((\u001b[38;5;28mself\u001b[39m\u001b[38;5;241m.\u001b[39m_w, \u001b[38;5;124m'\u001b[39m\u001b[38;5;124mcoords\u001b[39m\u001b[38;5;124m'\u001b[39m) \u001b[38;5;241m+\u001b[39m args))]\n",
      "\u001b[1;31mTclError\u001b[0m: invalid command name \".!canvas\""
     ]
    }
   ],
   "source": [
    "import turtle\n",
    "import random\n",
    "import math\n",
    "\n",
    "# Function to draw a circle of radius r\n",
    "def DrawFence(s, r):\n",
    "    s.penup()\n",
    "    s.setpos(0, -r)\n",
    "    s.pendown()\n",
    "    s.circle(r)\n",
    "\n",
    "# Function to bounce the ball off the circular fence\n",
    "def Bounce_off_fence(t, r):\n",
    "    x, y = t.position()\n",
    "    distance_to_center = math.sqrt(x**2 + y**2)\n",
    "    if distance_to_center >= r:\n",
    "        angle = math.atan2(y, x)\n",
    "        new_angle = random.uniform(angle - math.pi / 2, angle + math.pi / 2)  # Randomize angle\n",
    "        t.setheading(math.degrees(new_angle))\n",
    "\n",
    "# Set up the screen\n",
    "wn = turtle.Screen()\n",
    "wn.bgcolor(\"black\")\n",
    "wn.title(\"Bouncing Ball\")\n",
    "wn.setup(width=600, height=600)\n",
    "\n",
    "# Create the ball\n",
    "ball = turtle.Turtle()\n",
    "ball.shape(\"circle\")\n",
    "ball.color(\"white\")\n",
    "ball.penup()\n",
    "ball.speed(0)  # Animation speed\n",
    "\n",
    "# Set initial position at the center\n",
    "ball.goto(0, 0)\n",
    "\n",
    "# Set initial velocity components\n",
    "vx = random.uniform(-3, 3)\n",
    "vy = random.uniform(1, 5)\n",
    "\n",
    "# Set up gravity\n",
    "gravity = -0.1\n",
    "\n",
    "# Main loop\n",
    "while True:\n",
    "    ball.sety(ball.ycor() + vy)  # Move the ball vertically\n",
    "    ball.setx(ball.xcor() + vx)  # Move the ball horizontally\n",
    "\n",
    "    # Apply gravity\n",
    "    vy += gravity\n",
    "\n",
    "    # Check for collision with the circular fence\n",
    "    Bounce_off_fence(ball, 300)\n",
    "\n",
    "    # Check for collision with the screen edges\n",
    "    if ball.xcor() > 290 or ball.xcor() < -290:\n",
    "        vx *= -1\n",
    "    if ball.ycor() > 290:\n",
    "        vy *= -1\n",
    "    elif ball.ycor() < -290:\n",
    "        ball.sety(-290)\n",
    "        vy *= -1\n",
    "\n",
    "# Close the window when clicked\n",
    "wn.mainloop()\n"
   ]
  }
 ],
 "metadata": {
  "kernelspec": {
   "display_name": "Python 3 (ipykernel)",
   "language": "python",
   "name": "python3"
  },
  "language_info": {
   "codemirror_mode": {
    "name": "ipython",
    "version": 3
   },
   "file_extension": ".py",
   "mimetype": "text/x-python",
   "name": "python",
   "nbconvert_exporter": "python",
   "pygments_lexer": "ipython3",
   "version": "3.11.5"
  }
 },
 "nbformat": 4,
 "nbformat_minor": 5
}
