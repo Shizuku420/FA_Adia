{
 "cells": [
  {
   "cell_type": "markdown",
   "id": "6635b06d",
   "metadata": {},
   "source": [
    "# 1. Write a function named ack that evaluates the Ackermann function. Use your function to evaluate ack(2,4). What happens for larger values of m and n?"
   ]
  },
  {
   "cell_type": "code",
   "execution_count": 1,
   "id": "038097db",
   "metadata": {},
   "outputs": [
    {
     "name": "stdout",
     "output_type": "stream",
     "text": [
      "ack(2, 4) = 11\n"
     ]
    }
   ],
   "source": [
    "def ack(m, n, memo={}):\n",
    "    if (m, n) in memo:\n",
    "        return memo[(m, n)]\n",
    "    \n",
    "    if m == 0:\n",
    "        result = n + 1\n",
    "    elif m == 1:\n",
    "        result = n + 2\n",
    "    elif m == 2:\n",
    "        result = 2 * n + 3\n",
    "    elif m == 3:\n",
    "        result = 2**(n + 3) - 3\n",
    "    elif n == 0:\n",
    "        result = ack(m - 1, 1, memo)\n",
    "    elif n == 1:\n",
    "        result = ack(m - 1, ack(m, 0, memo), memo)\n",
    "    elif n == 2:\n",
    "        result = ack(m - 1, ack(m, 1, memo), memo)\n",
    "    else:\n",
    "        result = ack(m - 1, ack(m, n - 1, memo), memo)\n",
    "    \n",
    "    memo[(m, n)] = result\n",
    "    return result\n",
    "\n",
    "result = ack(2, 4)\n",
    "print(\"ack(2, 4) =\", result)"
   ]
  },
  {
   "cell_type": "markdown",
   "id": "596f8ebc",
   "metadata": {},
   "source": [
    "# 2. A number, a is a power of b if it is divisible by b and a/b is a power of b. Write a function called is_power that takes parameters a and b and returns True if a is a power of b. Note: you will have to think about a base case. (Note: It should work with float.)\n"
   ]
  },
  {
   "cell_type": "code",
   "execution_count": 3,
   "id": "2755fb23",
   "metadata": {},
   "outputs": [
    {
     "name": "stdout",
     "output_type": "stream",
     "text": [
      "Is 8 a power of 2? True\n",
      "Is 27 a power of 3? True\n",
      "Is 1 a power of 10? True\n",
      "Is 0.125 a power of 0.5? False\n"
     ]
    }
   ],
   "source": [
    "def is_power(a, b):\n",
    "    if not isinstance(a, (int, float)) or not isinstance(b, (int, float)):\n",
    "        raise ValueError(\"Both inputs must be integers or floats\")\n",
    "\n",
    "    if b == 0:\n",
    "        raise ValueError(\"b cannot be zero\")\n",
    "\n",
    "    if a == 1:\n",
    "        return True\n",
    "\n",
    "    if a < b:\n",
    "        return False\n",
    "\n",
    "    if isinstance(a, float) or isinstance(b, float):\n",
    "        a = int(a)\n",
    "        b = int(b)\n",
    "\n",
    "    while a % b == 0:\n",
    "        a /= b\n",
    "\n",
    "    return a == 1\n",
    "\n",
    "\n",
    "print(\"Is 8 a power of 2?\",is_power(8, 2))   \n",
    "print(\"Is 27 a power of 3?\",is_power(27, 3)) \n",
    "print(\"Is 1 a power of 10?\",is_power(1, 10))  \n",
    "print(\"Is 0.125 a power of 0.5?\",is_power(0.125, 0.5)) \n"
   ]
  },
  {
   "cell_type": "code",
   "execution_count": null,
   "id": "c0bfd696",
   "metadata": {},
   "outputs": [],
   "source": []
  }
 ],
 "metadata": {
  "kernelspec": {
   "display_name": "Python 3 (ipykernel)",
   "language": "python",
   "name": "python3"
  },
  "language_info": {
   "codemirror_mode": {
    "name": "ipython",
    "version": 3
   },
   "file_extension": ".py",
   "mimetype": "text/x-python",
   "name": "python",
   "nbconvert_exporter": "python",
   "pygments_lexer": "ipython3",
   "version": "3.9.13"
  }
 },
 "nbformat": 4,
 "nbformat_minor": 5
}
