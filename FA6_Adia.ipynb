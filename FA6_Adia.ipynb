{
  "metadata": {
    "kernelspec": {
      "name": "python",
      "display_name": "Python (Pyodide)",
      "language": "python"
    },
    "language_info": {
      "codemirror_mode": {
        "name": "python",
        "version": 3
      },
      "file_extension": ".py",
      "mimetype": "text/x-python",
      "name": "python",
      "nbconvert_exporter": "python",
      "pygments_lexer": "ipython3",
      "version": "3.8"
    }
  },
  "nbformat_minor": 5,
  "nbformat": 4,
  "cells": [
    {
      "id": "e7aaa91c-d9d4-4e76-9e23-ec2c789317b5",
      "cell_type": "markdown",
      "source": "1. Write a function named ack that evaluates the Ackermann function. Use your function to evaluate ack(2,4). What happens for larger values of m and n?",
      "metadata": {}
    },
    {
      "id": "347a5d73-8206-4dfe-80f2-aa2b96fa3484",
      "cell_type": "code",
      "source": "def ack(m, n, memo={}):\n    if (m, n) in memo:\n        return memo[(m, n)]\n    \n    if m == 0:\n        result = n + 1\n    elif m == 1:\n        result = n + 2\n    elif m == 2:\n        result = 2 * n + 3\n    elif m == 3:\n        result = 2**(n + 3) - 3\n    elif n == 0:\n        result = ack(m - 1, 1, memo)\n    elif n == 1:\n        result = ack(m - 1, ack(m, 0, memo), memo)\n    elif n == 2:\n        result = ack(m - 1, ack(m, 1, memo), memo)\n    else:\n        result = ack(m - 1, ack(m, n - 1, memo), memo)\n    \n    memo[(m, n)] = result\n    return result\n\nresult = ack(2, 4)\nprint(\"ack(2, 4) =\", result)\n",
      "metadata": {
        "trusted": true
      },
      "outputs": [
        {
          "name": "stdout",
          "text": "ack(2, 4) = 11\n",
          "output_type": "stream"
        }
      ],
      "execution_count": 1
    },
    {
      "id": "c9261298-a13f-40e8-9f88-b0c5fd9d94a5",
      "cell_type": "markdown",
      "source": "2. A number, a is a power of b if it is divisible by b and a/b is a power of b. Write a function called is_power that takes parameters a and b and returns True if a is a power of b. Note: you will have to think about a base case. (Note: It should work with float.)\n",
      "metadata": {}
    },
    {
      "id": "29232f02-f85c-431a-ad47-093d87f6d309",
      "cell_type": "code",
      "source": "def is_power(a, b):\n    if not isinstance(a, (int, float)) or not isinstance(b, (int, float)):\n        raise ValueError(\"Both inputs must be integers or floats\")\n\n    if b == 0:\n        raise ValueError(\"b cannot be zero\")\n\n    if a == 1:\n        return True\n\n    if a < b:\n        return False\n\n    if isinstance(a, float) or isinstance(b, float):\n        a = int(a)\n        b = int(b)\n\n    while a % b == 0:\n        a /= b\n\n    return a == 1\n\n\nprint(\"Is 8 a power of 2?\",is_power(8, 2))   \nprint(\"Is 27 a power of 3?\",is_power(27, 3))    \nprint(\"Is 8 a power of 2?\",is_power(1, 10))  \nprint(\"Is 8 a power of 2?\",is_power(0.125, 0.5)) \n\n",
      "metadata": {
        "trusted": true
      },
      "outputs": [],
      "execution_count": null
    }
  ]
}