{
  "nbformat": 4,
  "nbformat_minor": 0,
  "metadata": {
    "colab": {
      "provenance": [],
      "authorship_tag": "ABX9TyPxwyrUmAokq6szQq+11Zsu",
      "include_colab_link": true
    },
    "kernelspec": {
      "name": "python3",
      "display_name": "Python 3"
    },
    "language_info": {
      "name": "python"
    }
  },
  "cells": [
    {
      "cell_type": "markdown",
      "metadata": {
        "id": "view-in-github",
        "colab_type": "text"
      },
      "source": [
        "<a href=\"https://colab.research.google.com/github/Shizuku420/FA_Adia/blob/main/FA1_ADIA%2C%20JUAN%20CARLOS%20V..ipynb\" target=\"_parent\"><img src=\"https://colab.research.google.com/assets/colab-badge.svg\" alt=\"Open In Colab\"/></a>"
      ]
    },
    {
      "cell_type": "markdown",
      "source": [
        "# **1.   How many seconds are there in 42 minutes 42 seconds?**"
      ],
      "metadata": {
        "id": "v_h3pFY8uh-U"
      }
    },
    {
      "cell_type": "code",
      "source": [
        "minutes = 42\n",
        "seconds = 42\n",
        "converted_seconds = round((minutes * 60) + seconds, 5)\n",
        "print(\"Total seconds:\", converted_seconds)\n"
      ],
      "metadata": {
        "colab": {
          "base_uri": "https://localhost:8080/"
        },
        "id": "KVghH7x7usqb",
        "outputId": "23903090-48a0-4c9e-ebd8-5051fcdf4a02"
      },
      "execution_count": 1,
      "outputs": [
        {
          "output_type": "stream",
          "name": "stdout",
          "text": [
            "Total seconds: 2562\n"
          ]
        }
      ]
    },
    {
      "cell_type": "markdown",
      "source": [
        "# **2. How many miles are there in 10 kilometers? Hint: there are 1.61 kilometers in a mile.**"
      ],
      "metadata": {
        "id": "RQXyZ8rwu9nK"
      }
    },
    {
      "cell_type": "code",
      "source": [
        "kilometer = 10\n",
        "miles_per_kilometer = 1.61\n",
        "converted_miles = round(kilometer / miles_per_kilometer, 2)\n",
        "print(f\"There are {converted_miles} miles in {kilometer} kilometers.\")"
      ],
      "metadata": {
        "colab": {
          "base_uri": "https://localhost:8080/"
        },
        "id": "U7r9K_USvJ_8",
        "outputId": "2b61610b-353d-467f-b224-74d46bc67286"
      },
      "execution_count": 2,
      "outputs": [
        {
          "output_type": "stream",
          "name": "stdout",
          "text": [
            "There are 6.21 miles in 10 kilometers.\n"
          ]
        }
      ]
    },
    {
      "cell_type": "markdown",
      "source": [
        "# **3. If you run a 10 kilometer race in 42 minutes 42 seconds, what is your average pace (time per mile in minutes and seconds)? What is your average speed in miles per hour?**"
      ],
      "metadata": {
        "id": "vt-uJ2KVvTJD"
      }
    },
    {
      "cell_type": "code",
      "source": [
        "per_mile = converted_seconds / converted_miles\n",
        "minutes_seconds_pace = int(per_mile // 60)\n",
        "pace_seconds = round(per_mile % 60)\n",
        "\n",
        "# Calculate average speed in miles per hour\n",
        "speed_mph = round(converted_miles / (converted_seconds / 3600), 2)\n",
        "\n",
        "print(\"Average pace:\", minutes_seconds_pace, \"minutes\", pace_seconds, \"seconds per mile\")\n",
        "print(\"Average speed:\", speed_mph, \"miles per hour\")"
      ],
      "metadata": {
        "colab": {
          "base_uri": "https://localhost:8080/"
        },
        "id": "ehGLjzujvjcS",
        "outputId": "a802b000-6279-4af5-fba3-a293c93d79ee"
      },
      "execution_count": 3,
      "outputs": [
        {
          "output_type": "stream",
          "name": "stdout",
          "text": [
            "Average pace: 6 minutes 53 seconds per mile\n",
            "Average speed: 8.73 miles per hour\n"
          ]
        }
      ]
    }
  ]
}