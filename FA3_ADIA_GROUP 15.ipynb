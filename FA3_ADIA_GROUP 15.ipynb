{
  "cells": [
    {
      "cell_type": "markdown",
      "metadata": {
        "id": "view-in-github",
        "colab_type": "text"
      },
      "source": [
        "<a href=\"https://colab.research.google.com/github/Shizuku420/FA_Adia/blob/main/FA3_ADIA_GROUP%2015.ipynb\" target=\"_parent\"><img src=\"https://colab.research.google.com/assets/colab-badge.svg\" alt=\"Open In Colab\"/></a>"
      ]
    },
    {
      "cell_type": "markdown",
      "source": [
        "# **1. The volume of a sphere with radius r is 4/3πr^3. What is the volume of a sphere with radius 5?**"
      ],
      "metadata": {
        "id": "fYIttg2EpdBg"
      }
    },
    {
      "cell_type": "code",
      "source": [
        "import math\n",
        "\n",
        "def sphere_volume(radius):\n",
        "    return (4/3) * math.pi * radius**3\n",
        "\n",
        "radius = 5\n",
        "volume = sphere_volume(radius)\n",
        "print(\"The volume of the sphere with radius 5 is:\", volume)"
      ],
      "metadata": {
        "colab": {
          "base_uri": "https://localhost:8080/"
        },
        "id": "T3SqfWc0poAQ",
        "outputId": "5272235c-32a1-4113-ad76-b7fb554c4774"
      },
      "execution_count": 7,
      "outputs": [
        {
          "output_type": "stream",
          "name": "stdout",
          "text": [
            "The volume of the sphere with radius 5 is: 523.5987755982989\n"
          ]
        }
      ]
    },
    {
      "cell_type": "markdown",
      "source": [
        "# **2. Suppose the cover price of a book is  24.95 dollar, but bookstores get a 40% discount. Shipping costs 3 dollar for the first copy and 75 cents for each additional copy. What is the total wholesale cost for 60 copies?**"
      ],
      "metadata": {
        "id": "0RTgkjTrpzww"
      }
    },
    {
      "cell_type": "code",
      "source": [
        "cover_price = 24.95\n",
        "discount = 0.4\n",
        "shipping = 3\n",
        "copy = 0.75\n",
        "copies = 60\n",
        "\n",
        "\n",
        "discount = cover_price * (1 - discount)\n",
        "\n",
        "total_cost = discount + shipping\n",
        "\n",
        "additional_copies = discount + copy\n",
        "\n",
        "total_wholesale = total_cost + additional_copies * (copies - 1)\n",
        "\n",
        "print(\"The total wholesale cost for 60 copies is: $\", round(total_wholesale, 2))"
      ],
      "metadata": {
        "colab": {
          "base_uri": "https://localhost:8080/"
        },
        "id": "--uz0FO2qnFk",
        "outputId": "da19a72c-9ac6-4c84-c77c-2e9d12608a82"
      },
      "execution_count": 8,
      "outputs": [
        {
          "output_type": "stream",
          "name": "stdout",
          "text": [
            "The total wholesale cost for 60 copies is: $ 945.45\n"
          ]
        }
      ]
    },
    {
      "cell_type": "markdown",
      "source": [
        "# **3. If I leave my house at 6:52 am and run 1 mile at an easy pace (8:15 per mile)**, **then 3 miles at tempo (7:12 per mile)** **and 1 mile at an easy pace again**, **what time do I get home for breakfast**?"
      ],
      "metadata": {
        "id": "4pSTlnSGsPhj"
      }
    },
    {
      "cell_type": "code",
      "source": [
        "from datetime import datetime, timedelta\n",
        "\n",
        "easy = timedelta(minutes=8, seconds=15)\n",
        "tempo = timedelta(minutes=7, seconds=12)\n",
        "\n",
        "time = 2 * easy + 3 * tempo\n",
        "\n",
        "\n",
        "start = datetime.strptime(\"6:52\", \"%I:%M\")\n",
        "\n",
        "\n",
        "arrival = start + time\n",
        "\n",
        "print(\"You'll get home for breakfast at:\", arrival.strftime(\"%I:%M %p\"))\n"
      ],
      "metadata": {
        "colab": {
          "base_uri": "https://localhost:8080/"
        },
        "id": "GoGFeVkssU87",
        "outputId": "3d6c93dd-fe4f-487e-eb76-4ce1708d33ed"
      },
      "execution_count": 6,
      "outputs": [
        {
          "output_type": "stream",
          "name": "stdout",
          "text": [
            "You'll get home for breakfast at: 07:30 AM\n"
          ]
        }
      ]
    }
  ],
  "metadata": {
    "colab": {
      "name": "Welcome To Colaboratory",
      "toc_visible": true,
      "provenance": [],
      "include_colab_link": true
    },
    "kernelspec": {
      "display_name": "Python 3",
      "name": "python3"
    }
  },
  "nbformat": 4,
  "nbformat_minor": 0
}