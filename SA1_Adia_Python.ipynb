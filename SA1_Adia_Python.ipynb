{
  "cells": [
    {
      "cell_type": "markdown",
      "metadata": {
        "id": "view-in-github",
        "colab_type": "text"
      },
      "source": [
        "<a href=\"https://colab.research.google.com/github/Shizuku420/FA_Adia/blob/main/SA1_Adia_Python.ipynb\" target=\"_parent\"><img src=\"https://colab.research.google.com/assets/colab-badge.svg\" alt=\"Open In Colab\"/></a>"
      ]
    },
    {
      "cell_type": "markdown",
      "source": [
        "# **1. words.txt**"
      ],
      "metadata": {
        "id": "mlfj5IkB4Szm"
      }
    },
    {
      "cell_type": "code",
      "source": [
        "import requests\n",
        "import random\n",
        "\n",
        "def download_words_file():\n",
        "    url = 'https://raw.githubusercontent.com/AllenDowney/ThinkPython2/master/code/words.txt'\n",
        "    response = requests.get(url)\n",
        "    if response.status_code == 200:\n",
        "        with open('words.txt', 'wb') as f:\n",
        "            f.write(response.content)\n",
        "            print('Dataset saved to file.')\n",
        "    else:\n",
        "        print('Failed to download dataset.')\n",
        "\n",
        "def read_words_from_file():\n",
        "    with open('words.txt', 'r') as f:\n",
        "        words = f.readlines()\n",
        "        return [word.strip() for word in words]\n",
        "\n",
        "def total_number_of_words():\n",
        "    words = read_words_from_file()\n",
        "    print(\"Total number of words:\", len(words))\n",
        "\n",
        "def longest_word():\n",
        "    words = read_words_from_file()\n",
        "    longest = max(words, key=len)\n",
        "    print(\"Longest word:\", longest)\n",
        "\n",
        "def words_start_with_letter():\n",
        "    words = read_words_from_file()\n",
        "    letter = input(\"Enter a letter: \").lower()\n",
        "    count = sum(1 for word in words if word.startswith(letter))\n",
        "    print(f\"Number of words that start with '{letter}':\", count)\n",
        "\n",
        "def words_contain_substring():\n",
        "    words = read_words_from_file()\n",
        "    substring = input(\"Enter a substring: \").lower()\n",
        "    containing_words = [word for word in words if substring in word]\n",
        "    print(\"Words containing the substring:\", containing_words)\n",
        "\n",
        "def palindrome_words():\n",
        "    words = read_words_from_file()\n",
        "    palindromes = [word for word in words if word == word[::-1]]\n",
        "    print(\"Palindromes:\", palindromes)\n",
        "\n",
        "def letter_frequency():\n",
        "    words = read_words_from_file()\n",
        "    letter_count = {}\n",
        "    for word in words:\n",
        "        for letter in word:\n",
        "            letter_count[letter] = letter_count.get(letter, 0) + 1\n",
        "    print(\"Letter frequency:\")\n",
        "    for letter, count in sorted(letter_count.items()):\n",
        "        print(f\"{letter}: {count}\")\n",
        "\n",
        "def select_random_word():\n",
        "    words = read_words_from_file()\n",
        "    return random.choice(words)\n",
        "\n",
        "def display_word(word, guessed_letters):\n",
        "    display = ''\n",
        "    for letter in word:\n",
        "        if letter in guessed_letters:\n",
        "            display += letter\n",
        "        else:\n",
        "            display += '_'\n",
        "    return display\n",
        "\n",
        "def get_guess(guessed_letters):\n",
        "    while True:\n",
        "        guess = input(\"Guess a letter: \").lower()\n",
        "        if len(guess) == 1 and guess.isalpha() and guess not in guessed_letters:\n",
        "            return guess\n",
        "        else:\n",
        "            print(\"Invalid guess. Please enter a single letter that you haven't guessed before.\")\n",
        "\n",
        "def main():\n",
        "    download_words_file()\n",
        "    word = select_random_word()\n",
        "    guessed_letters = set()\n",
        "    max_attempts = 15\n",
        "    attempts = 0\n",
        "\n",
        "    print(\"Welcome to Word Guessing Game!\")\n",
        "    print(display_word(word, guessed_letters))\n",
        "\n",
        "    while attempts < max_attempts:\n",
        "        guess = get_guess(guessed_letters)\n",
        "        guessed_letters.add(guess)\n",
        "        if guess in word:\n",
        "            print(\"Correct!\")\n",
        "        else:\n",
        "            attempts += 1\n",
        "            print(f\"Incorrect. {max_attempts - attempts} guesses remaining.\")\n",
        "        print(display_word(word, guessed_letters))\n",
        "        if '_' not in display_word(word, guessed_letters):\n",
        "            print(\"Congratulations! You've guessed the word.\")\n",
        "            break\n",
        "    else:\n",
        "        print(f\"Sorry, you lose. The word was {word}\")\n",
        "\n",
        "if __name__ == \"__main__\":\n",
        "    main()\n"
      ],
      "metadata": {
        "id": "dcz4WiwZ4eQF",
        "outputId": "0d195b86-0934-4c55-aae3-0b421ea8b4f2",
        "colab": {
          "base_uri": "https://localhost:8080/"
        }
      },
      "execution_count": null,
      "outputs": [
        {
          "output_type": "stream",
          "name": "stdout",
          "text": [
            "Dataset saved to file.\n",
            "Welcome to Word Guessing Game!\n",
            "______\n"
          ]
        }
      ]
    },
    {
      "cell_type": "markdown",
      "source": [
        "# **2. Write a program on the Fibonacci sequence using both iterations and recursion, and including rendering time to compare the performance of both approaches.**\n"
      ],
      "metadata": {
        "id": "aqeZNEhz4r-3"
      }
    },
    {
      "cell_type": "code",
      "source": [
        "import time\n",
        "\n",
        "def fibonacci_iter(n):\n",
        "    fib = [0, 1]\n",
        "    for i in range(2, n+1):\n",
        "        fib.append(fib[i-1] + fib[i-2])\n",
        "    return fib[n]\n",
        "\n",
        "def fibonacci_rec(n):\n",
        "    if n <= 1:\n",
        "        return n\n",
        "    else:\n",
        "        return fibonacci_rec(n-1) + fibonacci_rec(n-2)\n",
        "\n",
        "def measure_time(func, *args):\n",
        "    start_time = time.time()\n",
        "    result = func(*args)\n",
        "    end_time = time.time()\n",
        "    execution_time = end_time - start_time\n",
        "    return result, execution_time\n",
        "\n",
        "def compare_methods(n):\n",
        "\n",
        "    fib_iter, time_iter = measure_time(fibonacci_iter, n)\n",
        "    print(f\"Fibonacci sequence using iteration: {fib_iter}\")\n",
        "    print(f\"Time taken for iteration: {time_iter:.8f} seconds\")\n",
        "\n",
        "\n",
        "    fib_rec, time_rec = measure_time(fibonacci_rec, n)\n",
        "    print(f\"Fibonacci sequence using recursion: {fib_rec}\")\n",
        "    print(f\"Time taken for recursion: {time_rec:.8f} seconds\")\n",
        "\n",
        "\n",
        "    if time_iter < time_rec:\n",
        "        print(\"Iteration method is faster.\")\n",
        "    elif time_iter > time_rec:\n",
        "        print(\"Recursion method is faster.\")\n",
        "    else:\n",
        "        print(\"Both methods have similar performance.\")\n",
        "\n",
        "n = 30\n",
        "compare_methods(n)\n"
      ],
      "metadata": {
        "id": "CnLdzp1D5U5H",
        "outputId": "1a4861e6-39eb-47ee-e2bc-bbf6f8ab934f",
        "colab": {
          "base_uri": "https://localhost:8080/"
        }
      },
      "execution_count": 21,
      "outputs": [
        {
          "output_type": "stream",
          "name": "stdout",
          "text": [
            "Fibonacci sequence using iteration: 832040\n",
            "Time taken for iteration: 0.00000906 seconds\n",
            "Fibonacci sequence using recursion: 832040\n",
            "Time taken for recursion: 0.33972692 seconds\n",
            "Iteration method is faster.\n"
          ]
        }
      ]
    },
    {
      "cell_type": "markdown",
      "source": [
        "# 3. Write a program to find the solution to the equation x^3 + 5x = 20 using a iterative formula Xₙ+1 = ∛(20-5x_n ) with initial x_0 = 2, giving the answer to 3 decimal places. (Note: Your program should print the value for x_0, x_1,… and stops at the x_(n )when x_(n )≅ x_(n-1) at the 3 decimal places.\n",
        "\n"
      ],
      "metadata": {
        "id": "fPOUgCvL_Gdo"
      }
    },
    {
      "cell_type": "code",
      "source": [
        "def solve_equation():\n",
        "    x = 2\n",
        "    prev_x = x\n",
        "\n",
        "    i = 0\n",
        "    while True:\n",
        "        x_new = (20 - 5 * x) ** (1 / 3)\n",
        "        print(f\"x_{i}: {x_new:.3f}\")\n",
        "\n",
        "        if abs(x_new - prev_x) < 0.001:\n",
        "            break\n",
        "\n",
        "        prev_x = x_new\n",
        "        x = x_new\n",
        "        i += 1\n",
        "\n",
        "solve_equation()\n",
        "\n"
      ],
      "metadata": {
        "id": "mTVBM0d7ACMl",
        "outputId": "8ede76e3-addf-441d-fa56-88594010d52e",
        "colab": {
          "base_uri": "https://localhost:8080/"
        }
      },
      "execution_count": 26,
      "outputs": [
        {
          "output_type": "stream",
          "name": "stdout",
          "text": [
            "x_0: 2.154\n",
            "x_1: 2.097\n",
            "x_2: 2.119\n",
            "x_3: 2.111\n",
            "x_4: 2.114\n",
            "x_5: 2.113\n",
            "x_6: 2.113\n"
          ]
        }
      ]
    }
  ],
  "metadata": {
    "colab": {
      "name": "Welcome to Colaboratory",
      "toc_visible": true,
      "provenance": [],
      "include_colab_link": true
    },
    "kernelspec": {
      "display_name": "Python 3",
      "name": "python3"
    }
  },
  "nbformat": 4,
  "nbformat_minor": 0
}